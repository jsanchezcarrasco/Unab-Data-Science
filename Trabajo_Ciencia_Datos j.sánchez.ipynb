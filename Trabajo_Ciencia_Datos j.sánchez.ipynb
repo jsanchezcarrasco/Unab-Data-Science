{
  "metadata": {
    "kernelspec": {
      "name": "python",
      "display_name": "Python (Pyodide)",
      "language": "python"
    },
    "language_info": {
      "codemirror_mode": {
        "name": "python",
        "version": 3
      },
      "file_extension": ".py",
      "mimetype": "text/x-python",
      "name": "python",
      "nbconvert_exporter": "python",
      "pygments_lexer": "ipython3",
      "version": "3.8"
    }
  },
  "nbformat_minor": 5,
  "nbformat": 4,
  "cells": [
    {
      "id": "cface0d3-ac17-4f65-8ad0-bb63a072b46a",
      "cell_type": "markdown",
      "source": "# Proyecto Final: Introducción a la Ciencia de Datos",
      "metadata": {}
    },
    {
      "id": "3e6079df-a009-45c9-9a47-4abf2423edd3",
      "cell_type": "markdown",
      "source": "# Inicio a los conceptos básicos de la ciencia de datos, incluyendo lenguajes, bibliotecas y herramientas comunes.",
      "metadata": {}
    },
    {
      "id": "2ffb7105-5b15-4f8d-b1ab-6202c42352bc",
      "cell_type": "markdown",
      "source": "# Lenguajes más utilizados\n- Python\n- R\n- SQL\n- Julia",
      "metadata": {}
    },
    {
      "id": "a3dcfe8e-3f21-47c3-897e-eb038144330f",
      "cell_type": "markdown",
      "source": "# Listado de bibliotecas mas comunes \n1. Pandas\n2. NumPy\n3. Matplotlib\n4. Scikit-learn",
      "metadata": {}
    },
    {
      "id": "e760a6e8-5c6c-430d-8883-46bbc2d99c45",
      "cell_type": "markdown",
      "source": "# Herramientas de ciencia de datos\n| Herramienta         | Uso Principal                     |\n|---------------------|-----------------------------------|\n| Jupyter Notebook    | Análisis y visualización de datos |\n| Tableau             | Visualización de datos            |\n| TensorFlow          | Aprendizaje automático            |",
      "metadata": {}
    },
    {
      "id": "54bd81f3-19fc-417b-8ebd-1625f29b105f",
      "cell_type": "markdown",
      "source": "# Las expresiones aritméticas son operaciones matemáticas básicas como suma, resta, multiplicación y división. Ejemplos:\n- Suma: '2 + 3 = 5'\n- Multiplicación: '4 * 5 = 20'",
      "metadata": {}
    },
    {
      "id": "898624eb-0ead-46e8-85c9-ef5df5341201",
      "cell_type": "code",
      "source": "# Multiplicar y sumar números\na = 5\nb = 10\nmultiplicacion = a * b\nsuma = a + b\nprint(\"Multiplicación:\", multiplicacion)\nprint(\"Suma:\", suma)",
      "metadata": {
        "trusted": true
      },
      "outputs": [
        {
          "name": "stdout",
          "output_type": "stream",
          "text": "Multiplicación: 50\nSuma: 15\n"
        }
      ],
      "execution_count": 4
    },
    {
      "id": "2e74446c-a6f5-4064-8d70-05ec3b5a08b5",
      "cell_type": "code",
      "source": "# Convertir minutos a horas\nminutos = 150\nhoras = minutos / 60\nprint(f\"{minutos} minutos son {horas} horas\")",
      "metadata": {
        "trusted": true
      },
      "outputs": [
        {
          "name": "stdout",
          "output_type": "stream",
          "text": "150 minutos son 2.5 horas\n"
        }
      ],
      "execution_count": 5
    },
    {
      "id": "78985cc8-754c-499c-afb5-d493ab31621a",
      "cell_type": "code",
      "source": "# Objetivos del proyecto\nobjetivos = [\n    \"Aprender los conceptos básicos de la ciencia de datos\",\n    \"Explorar herramientas y bibliotecas comunes\",\n    \"Practicar la creación de cuadernos Jupyter\"\n]\nfor objetivo in objetivos:\n    print(\"-\", objetivo)",
      "metadata": {
        "trusted": true
      },
      "outputs": [
        {
          "name": "stdout",
          "output_type": "stream",
          "text": "- Aprender los conceptos básicos de la ciencia de datos\n- Explorar herramientas y bibliotecas comunes\n- Practicar la creación de cuadernos Jupyter\n"
        }
      ],
      "execution_count": 6
    },
    {
      "id": "3e32fbc7-2066-4543-bc6a-58ab75af8576",
      "cell_type": "markdown",
      "source": "Autor: [Jonathan Sánchez]",
      "metadata": {}
    }
  ]
}